{
  "nbformat": 4,
  "nbformat_minor": 0,
  "metadata": {
    "colab": {
      "provenance": []
    },
    "kernelspec": {
      "name": "python3",
      "display_name": "Python 3"
    },
    "language_info": {
      "name": "python"
    }
  },
  "cells": [
    {
      "cell_type": "code",
      "execution_count": 1,
      "metadata": {
        "colab": {
          "base_uri": "https://localhost:8080/"
        },
        "id": "bMmKB7dPpCNb",
        "outputId": "c88f9747-05a6-4ecf-a7fc-2b8adbb0a31e"
      },
      "outputs": [
        {
          "output_type": "stream",
          "name": "stdout",
          "text": [
            "enter first number10\n",
            "ennter the second number3\n",
            "addition: 13\n",
            "subraction: 7\n",
            "multiplication: 30\n",
            "division: 3.3333333333333335\n",
            "modulus: 1\n",
            "exponentiation: 1000\n",
            "floor division: 3\n"
          ]
        }
      ],
      "source": [
        "a=int(input('enter first number'))\n",
        "b=int(input('ennter the second number'))\n",
        "print('addition:',a+b)\n",
        "print('subraction:',a-b)\n",
        "print('multiplication:',a*b)\n",
        "print('division:',a/b)\n",
        "print('modulus:',a%b)\n",
        "print('exponentiation:',a**b)\n",
        "print('floor division:',a//b)"
      ]
    },
    {
      "cell_type": "code",
      "source": [
        "a=int(input(\"enter first number\"))\n",
        "b=int(input(\"enter second number\"))\n",
        "if a>b:# greater opertor\n",
        " print(\"a is greater than b\")\n",
        "elif a==b:# assigment opertor\n",
        " print(\"a and b are equal\")\n",
        "elif a<=b:# lesser opertor with assigment opertor\n",
        " print(\"a is lesser than b\")\n",
        "else:\n",
        " print(\"do nothing\")"
      ],
      "metadata": {
        "colab": {
          "base_uri": "https://localhost:8080/"
        },
        "id": "S1xSb6u3pPP4",
        "outputId": "219d9674-d4e2-4e31-f02a-4bf9df8452ee"
      },
      "execution_count": 2,
      "outputs": [
        {
          "output_type": "stream",
          "name": "stdout",
          "text": [
            "enter first number10\n",
            "enter second number3\n",
            "a is greater than b\n"
          ]
        }
      ]
    },
    {
      "cell_type": "code",
      "source": [
        "a=True\n",
        "b=False\n",
        "c=True\n",
        "print(a and b)#logical opertor and(*)\n",
        "print(b and a)\n",
        "print(a and c)\n",
        "print(a or b)#logical opertor or(+)\n",
        "print(b or a)\n",
        "print(a or c)\n",
        "print(not a)#logical opertor not(not)\n",
        "print(not b)\n",
        "print(not c)"
      ],
      "metadata": {
        "colab": {
          "base_uri": "https://localhost:8080/"
        },
        "id": "b6ouiUb8p4fr",
        "outputId": "4b0a4fe5-ee20-424e-b73f-de352d81a34e"
      },
      "execution_count": 3,
      "outputs": [
        {
          "output_type": "stream",
          "name": "stdout",
          "text": [
            "False\n",
            "False\n",
            "True\n",
            "True\n",
            "True\n",
            "True\n",
            "False\n",
            "True\n",
            "False\n"
          ]
        }
      ]
    },
    {
      "cell_type": "code",
      "source": [
        "A=(input(\"enter the string\"))\n",
        "print(len(A))#length of string\n",
        "print(A[0],A[-1])#first and last character\n",
        "print(A[::-1])#reverse order\n",
        "print(A.upper())#uppercase\n",
        "print(A.lower())#lowercase"
      ],
      "metadata": {
        "colab": {
          "base_uri": "https://localhost:8080/"
        },
        "id": "_T_DNk-bqLnh",
        "outputId": "b078fde1-50a8-4a85-9527-ac68ad6bfe46"
      },
      "execution_count": 4,
      "outputs": [
        {
          "output_type": "stream",
          "name": "stdout",
          "text": [
            "enter the stringshashini\n",
            "8\n",
            "s i\n",
            "inihsahs\n",
            "SHASHINI\n",
            "shashini\n"
          ]
        }
      ]
    },
    {
      "cell_type": "code",
      "source": [
        "name=input(\"enter the name\")\n",
        "age=int(input(\"enter the age:\"))\n",
        "print(\"Hello\",name,\"your are\",age,\"years old\")"
      ],
      "metadata": {
        "colab": {
          "base_uri": "https://localhost:8080/"
        },
        "id": "jsxTAlXsqUJL",
        "outputId": "7dfecbd4-5a67-429e-e0ec-a39faf56e241"
      },
      "execution_count": 5,
      "outputs": [
        {
          "output_type": "stream",
          "name": "stdout",
          "text": [
            "enter the nameshashini\n",
            "enter the age:19\n",
            "Hello shashini your are 19 years old\n"
          ]
        }
      ]
    },
    {
      "cell_type": "code",
      "source": [
        "m=str(input(\"sentence:\"))\n",
        "n=str(input(\"enter a word:\"))\n",
        "print(m.index(n))"
      ],
      "metadata": {
        "colab": {
          "base_uri": "https://localhost:8080/"
        },
        "id": "syNz5XnVqgsI",
        "outputId": "7ce526e8-1bff-415b-a96b-12daaf9dd03e"
      },
      "execution_count": 6,
      "outputs": [
        {
          "output_type": "stream",
          "name": "stdout",
          "text": [
            "sentence:uttam kumawath\n",
            "enter a word:uttam\n",
            "0\n"
          ]
        }
      ]
    },
    {
      "cell_type": "code",
      "source": [
        "a=int(input(\"enter the number1:\"))\n",
        "b=int(input(\"enter the number2:\"))\n",
        "c=int(input(\"enter the number3:\"))\n",
        "d=int(input(\"enter the number4:\"))\n",
        "e=int(input(\"enter the number5:\"))\n",
        "f=(a,b,c,d)\n",
        "print([f])\n",
        "print(sum(f))\n",
        "print(max(f))\n",
        "print(min(f))"
      ],
      "metadata": {
        "colab": {
          "base_uri": "https://localhost:8080/"
        },
        "id": "NLr0FfbcqxzP",
        "outputId": "d77428d9-723a-452c-ab3c-c25a590b0c49"
      },
      "execution_count": 7,
      "outputs": [
        {
          "output_type": "stream",
          "name": "stdout",
          "text": [
            "enter the number1:1\n",
            "enter the number2:2\n",
            "enter the number3:3\n",
            "enter the number4:4\n",
            "enter the number5:5\n",
            "[(1, 2, 3, 4)]\n",
            "10\n",
            "4\n",
            "1\n"
          ]
        }
      ]
    },
    {
      "cell_type": "code",
      "source": [
        "fruits=[\"apple\",\"banana\",\"dargon fruit\",\"mango\",\"custard apple\"]\n",
        "print(fruits)\n",
        "fruits.append(\"pineapple\")\n",
        "print(fruits)\n",
        "fruits.remove(\"banana\")\n",
        "print(fruits)"
      ],
      "metadata": {
        "colab": {
          "base_uri": "https://localhost:8080/"
        },
        "id": "9lKwxNLzrAdP",
        "outputId": "909d3ed3-80ec-484a-9e4b-ea44c99fc7ce"
      },
      "execution_count": 10,
      "outputs": [
        {
          "output_type": "stream",
          "name": "stdout",
          "text": [
            "['apple', 'banana', 'dargon fruit', 'mango', 'custard apple']\n",
            "['apple', 'banana', 'dargon fruit', 'mango', 'custard apple', 'pineapple']\n",
            "['apple', 'dargon fruit', 'mango', 'custard apple', 'pineapple']\n"
          ]
        }
      ]
    },
    {
      "cell_type": "code",
      "source": [
        "A = int(input(\"Enter the number 1: \"))\n",
        "B = int(input(\"Enter the number 2: \"))\n",
        "C = int(input(\"Enter the number 3: \"))\n",
        "D = int(input(\"Enter the number 4: \"))\n",
        "E = int(input(\"Enter the number 5: \"))\n",
        "f = [A, B, C, D, E]\n",
        "f.sort()#sort the list in ascending order\n",
        "print(\"Ascending Order of the list: \", f)\n",
        "f.sort(reverse=True)#sort the list in descending order\n",
        "print(\"Descending Order of the list: \", f)"
      ],
      "metadata": {
        "colab": {
          "base_uri": "https://localhost:8080/"
        },
        "id": "H4BqsebmrYEo",
        "outputId": "777ea9cd-bc5d-4848-e8e4-b75876634c0b"
      },
      "execution_count": 11,
      "outputs": [
        {
          "output_type": "stream",
          "name": "stdout",
          "text": [
            "Enter the number 1: 1\n",
            "Enter the number 2: 2\n",
            "Enter the number 3: 3\n",
            "Enter the number 4: 4\n",
            "Enter the number 5: 5\n",
            "Ascending Order of the list:  [1, 2, 3, 4, 5]\n",
            "Descending Order of the list:  [5, 4, 3, 2, 1]\n"
          ]
        }
      ]
    },
    {
      "cell_type": "code",
      "source": [
        "Number=[1,2,3,4,5,6,7,8,9,10]\n",
        "print(Number[:5])\n",
        "print(Number[-5:])\n",
        "print(Number[1:7])"
      ],
      "metadata": {
        "colab": {
          "base_uri": "https://localhost:8080/"
        },
        "id": "OS940QTLrk-t",
        "outputId": "081564f3-c9c6-4ca8-fafd-cb46b9961776"
      },
      "execution_count": 12,
      "outputs": [
        {
          "output_type": "stream",
          "name": "stdout",
          "text": [
            "[1, 2, 3, 4, 5]\n",
            "[6, 7, 8, 9, 10]\n",
            "[2, 3, 4, 5, 6, 7]\n"
          ]
        }
      ]
    },
    {
      "cell_type": "code",
      "source": [
        "students = []\n",
        "for _ in range(3):\n",
        " name = input(\"Enter student name:\")\n",
        " scores = [float(input(f\"Enter score {i+1}: \")) for i in\n",
        "range(3)]\n",
        " students.append([name, scores])\n",
        "for student in students:\n",
        " avg = sum(student[1]) / 3\n",
        " print(student[0], \"'s average score:'\",avg)"
      ],
      "metadata": {
        "colab": {
          "base_uri": "https://localhost:8080/"
        },
        "id": "x97QLGfGrpvQ",
        "outputId": "a17506b0-b592-4841-d5ba-106679be5ac3"
      },
      "execution_count": 13,
      "outputs": [
        {
          "output_type": "stream",
          "name": "stdout",
          "text": [
            "Enter student name:shashini\n",
            "Enter score 1: 88\n",
            "Enter score 2: 76\n",
            "Enter score 3: 93\n",
            "Enter student name:samira\n",
            "Enter score 1: 77\n",
            "Enter score 2: 84\n",
            "Enter score 3: 90\n",
            "Enter student name:risha\n",
            "Enter score 1: 99\n",
            "Enter score 2: 98\n",
            "Enter score 3: 97\n",
            "shashini 's average score:' 85.66666666666667\n",
            "samira 's average score:' 83.66666666666667\n",
            "risha 's average score:' 98.0\n"
          ]
        }
      ]
    }
  ]
}